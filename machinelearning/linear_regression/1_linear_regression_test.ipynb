{
 "cells": [
  {
   "cell_type": "code",
   "id": "initial_id",
   "metadata": {
    "collapsed": true,
    "ExecuteTime": {
     "end_time": "2025-05-13T02:05:37.713056Z",
     "start_time": "2025-05-13T02:05:30.116033Z"
    }
   },
   "source": "from sklearn.linear_model import LinearRegression",
   "outputs": [],
   "execution_count": 1
  },
  {
   "metadata": {
    "ExecuteTime": {
     "end_time": "2025-05-13T02:07:28.793555Z",
     "start_time": "2025-05-13T02:07:28.790205Z"
    }
   },
   "cell_type": "code",
   "source": [
    "# 1. 定义数据\n",
    "X = [[5], [8], [10], [12], [15], [3], [7], [9], [14], [6]]\n",
    "y = [55, 65, 70, 75, 85, 50, 60, 72, 80, 58]"
   ],
   "id": "2a74b67e5d8ebced",
   "outputs": [],
   "execution_count": 2
  },
  {
   "metadata": {
    "ExecuteTime": {
     "end_time": "2025-05-13T02:08:51.455467Z",
     "start_time": "2025-05-13T02:08:51.452161Z"
    }
   },
   "cell_type": "code",
   "source": [
    "# 2. 创建线性回归模型\n",
    "model = LinearRegression()"
   ],
   "id": "68f8159100f52c30",
   "outputs": [],
   "execution_count": 3
  },
  {
   "metadata": {
    "ExecuteTime": {
     "end_time": "2025-05-13T02:10:26.137443Z",
     "start_time": "2025-05-13T02:10:26.130930Z"
    }
   },
   "cell_type": "code",
   "source": [
    "# 3. 训练模型\n",
    "model.fit(X, y)\n",
    "\n",
    "# 查看模型的系数和截距\n",
    "print(model.coef_)\n",
    "print(model.intercept_)"
   ],
   "id": "bd549763f31c6762",
   "outputs": [
    {
     "name": "stdout",
     "output_type": "stream",
     "text": [
      "[2.87070855]\n",
      "41.45069393718042\n"
     ]
    }
   ],
   "execution_count": 4
  },
  {
   "metadata": {
    "ExecuteTime": {
     "end_time": "2025-05-13T02:12:16.705035Z",
     "start_time": "2025-05-13T02:12:16.700562Z"
    }
   },
   "cell_type": "code",
   "source": [
    "# 5. 预测\n",
    "x_new = [[11]]\n",
    "y_pred = model.predict(x_new)\n",
    "print(y_pred)"
   ],
   "id": "5b7e0f05dc93578c",
   "outputs": [
    {
     "name": "stdout",
     "output_type": "stream",
     "text": [
      "[73.02848795]\n"
     ]
    }
   ],
   "execution_count": 5
  },
  {
   "metadata": {
    "ExecuteTime": {
     "end_time": "2025-05-13T02:16:36.108311Z",
     "start_time": "2025-05-13T02:16:36.025869Z"
    }
   },
   "cell_type": "code",
   "source": [
    "# 画图\n",
    "import matplotlib.pyplot as plt\n",
    "import numpy as np\n",
    "\n",
    "# 输入数据散点图\n",
    "plt.scatter(X, y)\n",
    "\n",
    "# 拟合直线\n",
    "x_line = np.arange(0, 18, 0.1).reshape(-1, 1)\n",
    "y_line = model.predict(x_line)\n",
    "plt.plot(x_line, y_line, color='red')\n",
    "\n",
    "# 画出预测点\n",
    "plt.scatter(x_new, y_pred, color='green')\n",
    "plt.show()"
   ],
   "id": "e98e96fe138ba8f3",
   "outputs": [
    {
     "data": {
      "text/plain": [
       "<Figure size 640x480 with 1 Axes>"
      ],
      "image/png": "[encoded data removed]"
     },
     "metadata": {},
     "output_type": "display_data"
    }
   ],
   "execution_count": 7
  },
  {
   "metadata": {
    "ExecuteTime": {
     "end_time": "2025-05-13T06:12:24.857843Z",
     "start_time": "2025-05-13T06:12:24.836997Z"
    }
   },
   "cell_type": "code",
   "source": [
    "# 参数：是否计算截距\n",
    "model = LinearRegression(fit_intercept=False)\n",
    "model.fit(X, y)\n",
    "\n",
    "# 打印系数和截距\n",
    "print(model.coef_)\n",
    "print(model.intercept_)"
   ],
   "id": "3f8afec34eb60c6b",
   "outputs": [
    {
     "name": "stdout",
     "output_type": "stream",
     "text": [
      "[6.84176534]\n",
      "0.0\n"
     ]
    }
   ],
   "execution_count": 8
  },
  {
   "metadata": {
    "ExecuteTime": {
     "end_time": "2025-05-13T08:00:34.698276Z",
     "start_time": "2025-05-13T08:00:34.693052Z"
    }
   },
   "cell_type": "code",
   "source": [
    "from sklearn.linear_model import SGDRegressor\n",
    "\n",
    "model = SGDRegressor(\n",
    "    loss='squared_error',\n",
    "    alpha=1e-3,\n",
    "    learning_rate='constant',\n",
    "    eta0=0.001,\n",
    "    max_iter=10000,\n",
    "    tol=0.0001,\n",
    ")\n",
    "\n",
    "model.fit(X, y)\n",
    "\n",
    "print(model.coef_)\n",
    "print(model.intercept_)"
   ],
   "id": "88f0ebcf9bdcf868",
   "outputs": [
    {
     "name": "stdout",
     "output_type": "stream",
     "text": [
      "[3.65243025]\n",
      "[33.1500808]\n"
     ]
    }
   ],
   "execution_count": 24
  },
  {
   "metadata": {},
   "cell_type": "code",
   "outputs": [],
   "execution_count": null,
   "source": "",
   "id": "3a871975f7600624"
  }
 ],
 "metadata": {
  "kernelspec": {
   "display_name": "Python 3",
   "language": "python",
   "name": "python3"
  },
  "language_info": {
   "codemirror_mode": {
    "name": "ipython",
    "version": 2
   },
   "file_extension": ".py",
   "mimetype": "text/x-python",
   "name": "python",
   "nbconvert_exporter": "python",
   "pygments_lexer": "ipython2",
   "version": "2.7.6"
  }
 },
 "nbformat": 4,
 "nbformat_minor": 5
}
