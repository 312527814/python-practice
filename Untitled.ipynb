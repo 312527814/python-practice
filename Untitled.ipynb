{
 "cells": [
  {
   "cell_type": "code",
   "execution_count": 1,
   "id": "78a1abda-55a1-4213-8adb-1d3899e8af12",
   "metadata": {
    "scrolled": true
   },
   "outputs": [
    {
     "name": "stdout",
     "output_type": "stream",
     "text": [
      "ddd\n"
     ]
    }
   ],
   "source": [
    "print('ddd')"
   ]
  },
  {
   "cell_type": "code",
   "execution_count": 2,
   "id": "56270139-8fd9-4476-8f13-fc860fdda8c8",
   "metadata": {},
   "outputs": [],
   "source": [
    "username = \"dsdsds\";"
   ]
  },
  {
   "cell_type": "code",
   "execution_count": 3,
   "id": "b6877ad0-31b1-40b3-b580-2b253e5e63e2",
   "metadata": {},
   "outputs": [
    {
     "name": "stdout",
     "output_type": "stream",
     "text": [
      "你的用户名是：dsdsds\n"
     ]
    }
   ],
   "source": [
    "print(\"你的用户名是：\" + username)"
   ]
  }
 ],
 "metadata": {
  "kernelspec": {
   "display_name": "Python 3 (ipykernel)",
   "language": "python",
   "name": "python3"
  },
  "language_info": {
   "codemirror_mode": {
    "name": "ipython",
    "version": 3
   },
   "file_extension": ".py",
   "mimetype": "text/x-python",
   "name": "python",
   "nbconvert_exporter": "python",
   "pygments_lexer": "ipython3",
   "version": "3.13.2"
  }
 },
 "nbformat": 4,
 "nbformat_minor": 5
}
